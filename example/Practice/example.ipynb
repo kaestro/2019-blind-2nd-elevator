{
 "metadata": {
  "language_info": {
   "codemirror_mode": {
    "name": "ipython",
    "version": 3
   },
   "file_extension": ".py",
   "mimetype": "text/x-python",
   "name": "python",
   "nbconvert_exporter": "python",
   "pygments_lexer": "ipython3",
   "version": "3.7.4-final"
  },
  "orig_nbformat": 2,
  "kernelspec": {
   "name": "Python 3.7.4 32-bit",
   "display_name": "Python 3.7.4 32-bit",
   "metadata": {
    "interpreter": {
     "hash": "5d49bdd88b5736df493237aafb1f4f12688a87847969de98172dc0d02fc43ccf"
    }
   }
  }
 },
 "nbformat": 4,
 "nbformat_minor": 2,
 "cells": [
  {
   "source": [
    "import requests\n",
    "import copy\n",
    "import math\n",
    "from imp import reload"
   ],
   "cell_type": "code",
   "metadata": {},
   "execution_count": 149,
   "outputs": []
  },
  {
   "cell_type": "code",
   "execution_count": 150,
   "metadata": {},
   "outputs": [],
   "source": [
    "import Elevator\n",
    "import Call\n",
    "from Api import start, action, oncalls"
   ]
  },
  {
   "cell_type": "code",
   "execution_count": 151,
   "metadata": {},
   "outputs": [],
   "source": [
    "STOP, UP, DOWN, OPEN, CLOSE, ENTER, EXIT = 0, 1, 2, 3, 4, 5, 6\n",
    "MAX_PASSENGER, MAX_FLOOR = 8, 5"
   ]
  },
  {
   "source": [
    "user = 'tester'\n",
    "problem = 0\n",
    "count = 2"
   ],
   "cell_type": "code",
   "metadata": {},
   "execution_count": 152,
   "outputs": []
  },
  {
   "cell_type": "code",
   "execution_count": 153,
   "metadata": {
    "tags": []
   },
   "outputs": [
    {
     "output_type": "stream",
     "name": "stdout",
     "text": "Token for tester is urMLm\n"
    }
   ],
   "source": [
    "ret = start(user, problem, count)\n",
    "token = ret['token']\n",
    "print('Token for %s is %s' % (user, token))"
   ]
  },
  {
   "cell_type": "code",
   "execution_count": 154,
   "metadata": {},
   "outputs": [],
   "source": [
    "request = oncalls(token)"
   ]
  },
  {
   "cell_type": "code",
   "execution_count": 155,
   "metadata": {
    "tags": []
   },
   "outputs": [
    {
     "output_type": "stream",
     "name": "stdout",
     "text": "{'token': 'urMLm', 'timestamp': 0, 'elevators': [{'id': 0, 'floor': 1, 'passengers': [], 'status': 'STOPPED'}, {'id': 1, 'floor': 1, 'passengers': [], 'status': 'STOPPED'}], 'calls': [{'id': 0, 'timestamp': 0, 'start': 4, 'end': 1}, {'id': 1, 'timestamp': 0, 'start': 4, 'end': 3}], 'is_end': False}\n"
    }
   ],
   "source": [
    "print(request)"
   ]
  },
  {
   "cell_type": "code",
   "execution_count": 163,
   "metadata": {},
   "outputs": [],
   "source": [
    "requestList = []\n",
    "elevatorList = [Elevator.Elevator(i) for i in range(2)]\n",
    "callDict = {}"
   ]
  },
  {
   "cell_type": "code",
   "execution_count": 164,
   "metadata": {
    "tags": []
   },
   "outputs": [
    {
     "output_type": "stream",
     "name": "stdout",
     "text": "urMLm\n0\n[{'id': 0, 'floor': 1, 'passengers': [], 'status': 'STOPPED'}, {'id': 1, 'floor': 1, 'passengers': [], 'status': 'STOPPED'}]\n[{'id': 0, 'timestamp': 0, 'start': 4, 'end': 1}, {'id': 1, 'timestamp': 0, 'start': 4, 'end': 3}]\nFalse\nid: 0, floor: 1, passengers: [], status: STOPPED.\nElevator[0] has been successfully updated\nid: 1, floor: 1, passengers: [], status: STOPPED.\nElevator[1] has been successfully updated\nCall id: 0, timestamp: 0, start: 4, end: 1, direction: DOWNWARD has been successfully updated.\nCall id: 1, timestamp: 0, start: 4, end: 3, direction: DOWNWARD has been successfully updated.\nid: 0, floor: 1, passengers: [], status: STOPPED\nid: 1, floor: 1, passengers: [], status: STOPPED\nid: 0, timestamp: 0, start: 4, end: 1, direction: DOWNWARD\nid: 1, timestamp: 0, start: 4, end: 3, direction: DOWNWARD\n"
    }
   ],
   "source": [
    "Update(request, elevatorList, callDict)"
   ]
  },
  {
   "cell_type": "code",
   "execution_count": 165,
   "metadata": {
    "tags": []
   },
   "outputs": [],
   "source": [
    "commandList = []\n",
    "takenIds = []\n",
    "for call in callDict.values():\n",
    "    minDist = math.inf\n",
    "    elevatorId = None\n",
    "    for elevator in elevatorList:\n",
    "        if len(elevator.passengers) > 0 or elevator.id in takenIds:\n",
    "            continue\n",
    "\n",
    "        dist = elevator.distanceFromCall(call)\n",
    "        if dist < minDist:\n",
    "            minDist, elevatorId = dist, elevator.id\n",
    "            \n",
    "        if elevatorId is not None:\n",
    "            takenIds.append(elevatorId)\n",
    "            actionJson = elevatorList[elevatorId].decideAction(call)\n",
    "            commandList.append(actionJson)\n",
    "            break"
   ]
  },
  {
   "cell_type": "code",
   "execution_count": 166,
   "metadata": {
    "tags": []
   },
   "outputs": [
    {
     "output_type": "stream",
     "name": "stdout",
     "text": "{'elevator_id': 0, 'command': 'UP'}\n{'elevator_id': 1, 'command': 'UP'}\n"
    }
   ],
   "source": [
    "for command in commandList:\n",
    "    print(command)"
   ]
  },
  {
   "cell_type": "code",
   "execution_count": 168,
   "metadata": {},
   "outputs": [
    {
     "output_type": "execute_result",
     "data": {
      "text/plain": "{'token': 'urMLm',\n 'timestamp': 1,\n 'elevators': [{'id': 0, 'floor': 2, 'passengers': [], 'status': 'UPWARD'},\n  {'id': 1, 'floor': 2, 'passengers': [], 'status': 'UPWARD'}],\n 'is_end': False}"
     },
     "metadata": {},
     "execution_count": 168
    }
   ],
   "source": [
    "action(token, commandList)"
   ]
  }
 ]
}